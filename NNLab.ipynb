{
 "cells": [
  {
   "cell_type": "code",
   "execution_count": 1,
   "metadata": {},
   "outputs": [],
   "source": [
    "# Ejemplo del calculo que se hace en una neurona\n",
    "import numpy as np\n",
    "# definimos funcion de activación\n",
    "def stepFunc(s, theta=1):\n",
    "    m = s.size\n",
    "    pred = np.zeros(m)\n",
    "    for i in range (m):\n",
    "        if s> theta:\n",
    "            pred[i] = 1.\n",
    "        if s <= theta:\n",
    "            pred[i] = 0.\n",
    "    return pred\n",
    "# definimos otro ejemplo de función de activación\n",
    "def hypertan(s=0.0):\n",
    "    return np.tanh(s)\n",
    "\n",
    "def neuron(func,W,X):\n",
    "    s= np.sum(W*X) # W*X multiplica elemento a elemento los vectores = w1*x1+w2*x2\n",
    "    pred = func(s)\n",
    "    return pred\n"
   ]
  },
  {
   "cell_type": "code",
   "execution_count": 2,
   "metadata": {},
   "outputs": [
    {
     "data": {
      "text/plain": [
       "0.9966823978396512"
      ]
     },
     "execution_count": 2,
     "metadata": {},
     "output_type": "execute_result"
    }
   ],
   "source": [
    "x1 = 0.9; x2 = 2.3\n",
    "X=[x1,x2]\n",
    "X = np.column_stack((x1,x2))\n",
    "w1=1;w2=1\n",
    "W =[w1,w2]\n",
    "pred = neuron(hypertan,W,X) # escojo función de activación\n",
    "pred"
   ]
  },
  {
   "cell_type": "code",
   "execution_count": 4,
   "metadata": {},
   "outputs": [
    {
     "data": {
      "text/plain": [
       "<matplotlib.collections.PathCollection at 0x106f45990>"
      ]
     },
     "execution_count": 4,
     "metadata": {},
     "output_type": "execute_result"
    },
    {
     "data": {
      "image/png": "[encoded data removed]",
      "text/plain": [
       "<Figure size 432x288 with 1 Axes>"
      ]
     },
     "metadata": {},
     "output_type": "display_data"
    }
   ],
   "source": [
    "# Ejemplo de clasificación\n",
    "data=np.loadtxt('ClassificationExample.txt')\n",
    "X=data[:,1:]\n",
    "y=data[:,0]  # la clase a la que pertenecen 0 clase= region roja , 1 clase = región azul\n",
    "import matplotlib.pyplot as plt\n",
    "colors = ['red', 'blue']\n",
    "plt.scatter(X[:,0], X[:,1], c='g')\n",
    "plt.scatter(X[y==1,0], X[y==1,1], c=colors[0]) # puedo escojer unos X que cumplan cierta condición\n",
    "plt.scatter(X[y==0,0], X[y==0,1], c=colors[1])\n"
   ]
  },
  {
   "cell_type": "code",
   "execution_count": 15,
   "metadata": {},
   "outputs": [
    {
     "data": {
      "text/plain": [
       "StandardScaler(copy=True, with_mean=True, with_std=True)"
      ]
     },
     "execution_count": 15,
     "metadata": {},
     "output_type": "execute_result"
    }
   ],
   "source": [
    "# 2 funciones de esas muy simples que python nos hace\n",
    "from sklearn.model_selection import train_test_split  # dividir training set entre set de train y de validación\n",
    "from sklearn.preprocessing import StandardScaler\n",
    "\n",
    "X_train, X_test, y_train, y_test = train_test_split(X, y)   # Xtrain=X[0:ntrain];X_test[ntrain:],...\n",
    "\n",
    "# normalizamos inputs   (x-<x>)/sigma\n",
    "scaler = StandardScaler()\n",
    "scaler.fit(X_train)   # en scaler ahora tengo la media y la sigma guardada de cada elemento en X_train\n",
    "#X_train = scaler.transform(X_train)\n",
    "#X_test = scaler.transform(X_test)\n",
    "\n",
    "# luego hay que hacer la inversa! Comprobar como va de distinto si lo normalizo o no, para el vino es crucial! "
   ]
  },
  {
   "cell_type": "code",
   "execution_count": 16,
   "metadata": {},
   "outputs": [],
   "source": [
    "from sklearn.neural_network import MLPClassifier\n",
    "#help (MLPClassifier)\n"
   ]
  },
  {
   "cell_type": "code",
   "execution_count": 17,
   "metadata": {},
   "outputs": [],
   "source": [
    "# definimos numero de capas ocultas y de hidden nodes, función de activación\n",
    "# en este caso 2 capas una con 2 neuronas y otra con 5, función de activación tanh\n",
    "mlp = MLPClassifier(hidden_layer_sizes=(2,5),activation='tanh',max_iter=500,batch_size=50,verbose=True) # batch_size default depending on minimizer"
   ]
  },
  {
   "cell_type": "code",
   "execution_count": 18,
   "metadata": {},
   "outputs": [
    {
     "name": "stdout",
     "output_type": "stream",
     "text": [
      "Iteration 1, loss = 0.32167287\n",
      "Iteration 2, loss = 0.28893127\n",
      "Iteration 3, loss = 0.26333163\n",
      "Iteration 4, loss = 0.24238356\n",
      "Iteration 5, loss = 0.22509090\n",
      "Iteration 6, loss = 0.21063757\n",
      "Iteration 7, loss = 0.19825563\n",
      "Iteration 8, loss = 0.18780689\n",
      "Iteration 9, loss = 0.17933139\n",
      "Iteration 10, loss = 0.17198281\n",
      "Iteration 11, loss = 0.16603734\n",
      "Iteration 12, loss = 0.16137993\n",
      "Iteration 13, loss = 0.15747832\n",
      "Iteration 14, loss = 0.15422702\n",
      "Iteration 15, loss = 0.15169183\n",
      "Iteration 16, loss = 0.14956676\n",
      "Iteration 17, loss = 0.14775878\n",
      "Iteration 18, loss = 0.14631154\n",
      "Iteration 19, loss = 0.14521236\n",
      "Iteration 20, loss = 0.14407057\n",
      "Iteration 21, loss = 0.14326368\n",
      "Iteration 22, loss = 0.14256706\n",
      "Iteration 23, loss = 0.14187491\n",
      "Iteration 24, loss = 0.14145766\n",
      "Iteration 25, loss = 0.14086978\n",
      "Iteration 26, loss = 0.14055789\n",
      "Iteration 27, loss = 0.14011779\n",
      "Iteration 28, loss = 0.13988141\n",
      "Iteration 29, loss = 0.13987743\n",
      "Iteration 30, loss = 0.13927858\n",
      "Iteration 31, loss = 0.13912189\n",
      "Iteration 32, loss = 0.13875634\n",
      "Iteration 33, loss = 0.13855022\n",
      "Iteration 34, loss = 0.13840783\n",
      "Iteration 35, loss = 0.13822762\n",
      "Iteration 36, loss = 0.13813509\n",
      "Iteration 37, loss = 0.13789266\n",
      "Iteration 38, loss = 0.13781397\n",
      "Iteration 39, loss = 0.13767469\n",
      "Iteration 40, loss = 0.13749570\n",
      "Iteration 41, loss = 0.13742912\n",
      "Iteration 42, loss = 0.13731195\n",
      "Iteration 43, loss = 0.13710194\n",
      "Iteration 44, loss = 0.13699351\n",
      "Iteration 45, loss = 0.13700167\n",
      "Iteration 46, loss = 0.13685304\n",
      "Iteration 47, loss = 0.13672857\n",
      "Iteration 48, loss = 0.13671509\n",
      "Iteration 49, loss = 0.13656271\n",
      "Iteration 50, loss = 0.13642638\n",
      "Iteration 51, loss = 0.13634964\n",
      "Iteration 52, loss = 0.13640566\n",
      "Iteration 53, loss = 0.13615394\n",
      "Iteration 54, loss = 0.13619235\n",
      "Iteration 55, loss = 0.13599119\n",
      "Iteration 56, loss = 0.13591788\n",
      "Iteration 57, loss = 0.13591423\n",
      "Iteration 58, loss = 0.13591769\n",
      "Iteration 59, loss = 0.13569171\n",
      "Iteration 60, loss = 0.13567131\n",
      "Iteration 61, loss = 0.13564459\n",
      "Iteration 62, loss = 0.13548568\n",
      "Iteration 63, loss = 0.13550239\n",
      "Iteration 64, loss = 0.13548308\n",
      "Iteration 65, loss = 0.13559244\n",
      "Iteration 66, loss = 0.13534387\n",
      "Iteration 67, loss = 0.13527462\n",
      "Iteration 68, loss = 0.13523619\n",
      "Iteration 69, loss = 0.13542080\n",
      "Iteration 70, loss = 0.13512946\n",
      "Iteration 71, loss = 0.13507589\n",
      "Iteration 72, loss = 0.13508905\n",
      "Iteration 73, loss = 0.13502105\n",
      "Iteration 74, loss = 0.13492973\n",
      "Iteration 75, loss = 0.13496785\n",
      "Iteration 76, loss = 0.13482558\n",
      "Iteration 77, loss = 0.13491068\n",
      "Iteration 78, loss = 0.13478109\n",
      "Iteration 79, loss = 0.13479906\n",
      "Iteration 80, loss = 0.13467175\n",
      "Iteration 81, loss = 0.13462579\n",
      "Iteration 82, loss = 0.13464954\n",
      "Iteration 83, loss = 0.13476265\n",
      "Iteration 84, loss = 0.13450182\n",
      "Iteration 85, loss = 0.13456296\n",
      "Iteration 86, loss = 0.13447114\n",
      "Iteration 87, loss = 0.13442532\n",
      "Iteration 88, loss = 0.13440852\n",
      "Iteration 89, loss = 0.13437964\n",
      "Iteration 90, loss = 0.13434163\n",
      "Iteration 91, loss = 0.13428225\n",
      "Iteration 92, loss = 0.13443061\n",
      "Iteration 93, loss = 0.13425495\n",
      "Iteration 94, loss = 0.13429134\n",
      "Iteration 95, loss = 0.13423512\n",
      "Training loss did not improve more than tol=0.000100 for 10 consecutive epochs. Stopping.\n"
     ]
    },
    {
     "data": {
      "text/plain": [
       "MLPClassifier(activation='tanh', alpha=0.0001, batch_size=50, beta_1=0.9,\n",
       "       beta_2=0.999, early_stopping=False, epsilon=1e-08,\n",
       "       hidden_layer_sizes=(2, 5), learning_rate='constant',\n",
       "       learning_rate_init=0.001, max_iter=500, momentum=0.9,\n",
       "       n_iter_no_change=10, nesterovs_momentum=True, power_t=0.5,\n",
       "       random_state=None, shuffle=True, solver='adam', tol=0.0001,\n",
       "       validation_fraction=0.1, verbose=True, warm_start=False)"
      ]
     },
     "execution_count": 18,
     "metadata": {},
     "output_type": "execute_result"
    }
   ],
   "source": [
    "# Entreno con los valores que tengo en el train\n",
    "# en mlp he definido mi ecuacion  y=tanh(sum(xw)+...)\n",
    "# en fit hago el ajuste al igual que polyfit me hacía\n",
    "mlp.fit(X_train,y_train)"
   ]
  },
  {
   "cell_type": "code",
   "execution_count": 19,
   "metadata": {},
   "outputs": [
    {
     "data": {
      "text/plain": [
       "Text(0,0.5,'loss function')"
      ]
     },
     "execution_count": 19,
     "metadata": {},
     "output_type": "execute_result"
    },
    {
     "data": {
      "image/png": "[encoded data removed]",
      "text/plain": [
       "<Figure size 432x288 with 1 Axes>"
      ]
     },
     "metadata": {},
     "output_type": "display_data"
    }
   ],
   "source": [
    "import matplotlib.pyplot as pl\n",
    "pl.plot(mlp.loss_curve_)  # mlp.loss_curve nos da una idea de como converge el training set\n",
    "pl.xlabel('iteration')\n",
    "pl.ylabel('loss function')\n",
    "\n",
    "\n",
    "\n"
   ]
  },
  {
   "cell_type": "code",
   "execution_count": 20,
   "metadata": {},
   "outputs": [],
   "source": [
    "from sklearn.metrics import confusion_matrix\n",
    "# una vez terminado el fit tenemos los pesos. Tenemos el MODELO que ajusta los datos\n",
    "predictions = mlp.predict(X_test)\n"
   ]
  },
  {
   "cell_type": "code",
   "execution_count": 21,
   "metadata": {},
   "outputs": [
    {
     "data": {
      "text/plain": [
       "array([[231,  22],\n",
       "       [  6, 241]])"
      ]
     },
     "execution_count": 21,
     "metadata": {},
     "output_type": "execute_result"
    }
   ],
   "source": [
    "# comparamos los datos del test (lo que no hemos usado para el training) con las predicciones\n",
    "confusion_matrix(y_test,predictions)  # nos dice los aciertos en cada clase y los falsos positivos por columnas >> C_ii true positives, C_ij!=0 falso positivo detectado en clase j"
   ]
  },
  {
   "cell_type": "code",
   "execution_count": 22,
   "metadata": {},
   "outputs": [
    {
     "name": "stdout",
     "output_type": "stream",
     "text": [
      "              precision    recall  f1-score   support\n",
      "\n",
      "         0.0       0.97      0.91      0.94       253\n",
      "         1.0       0.92      0.98      0.95       247\n",
      "\n",
      "   micro avg       0.94      0.94      0.94       500\n",
      "   macro avg       0.95      0.94      0.94       500\n",
      "weighted avg       0.95      0.94      0.94       500\n",
      "\n"
     ]
    }
   ],
   "source": [
    "from sklearn.metrics import classification_report\n",
    "# calculamos recall, precision y f1-score para ambas clases. \n",
    "print classification_report(y_test,predictions)"
   ]
  },
  {
   "cell_type": "markdown",
   "metadata": {},
   "source": [
    "Este resultado indica que :\n",
    "Cl\n"
   ]
  },
  {
   "cell_type": "code",
   "execution_count": 14,
   "metadata": {},
   "outputs": [
    {
     "data": {
      "text/plain": [
       "<matplotlib.collections.PathCollection at 0x11359ccd0>"
      ]
     },
     "execution_count": 14,
     "metadata": {},
     "output_type": "execute_result"
    },
    {
     "data": {
      "image/png": "[encoded data removed]",
      "text/plain": [
       "<Figure size 432x288 with 1 Axes>"
      ]
     },
     "metadata": {},
     "output_type": "display_data"
    }
   ],
   "source": [
    "# hacemos plot de nuestras predicciones y marcamos en rojo los puntos que no hemos clasificado bien\n",
    "\n",
    "plt.scatter(X_test[y_test==1,0],X_test[y_test==1,1])\n",
    "plt.scatter(X_test[y_test==0,0],X_test[y_test==0,1])\n",
    "plt.scatter(X_test[(y_test==1)&(predictions==0),0],X_test[(y_test==1)&(predictions==0),1],c='r')\n",
    "plt.scatter(X_test[(y_test==0)&(predictions==1),0],X_test[(y_test==0)&(predictions==1),1],c='r')\n",
    "# mal clasificados del test en rojo"
   ]
  },
  {
   "cell_type": "code",
   "execution_count": null,
   "metadata": {},
   "outputs": [],
   "source": []
  }
 ],
 "metadata": {
  "kernelspec": {
   "display_name": "Python 2",
   "language": "python",
   "name": "python2"
  },
  "language_info": {
   "codemirror_mode": {
    "name": "ipython",
    "version": 2
   },
   "file_extension": ".py",
   "mimetype": "text/x-python",
   "name": "python",
   "nbconvert_exporter": "python",
   "pygments_lexer": "ipython2",
   "version": "2.7.15"
  }
 },
 "nbformat": 4,
 "nbformat_minor": 2
}
